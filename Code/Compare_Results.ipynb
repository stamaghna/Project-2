{
  "nbformat": 4,
  "nbformat_minor": 0,
  "metadata": {
    "colab": {
      "name": "Compare Results",
      "provenance": []
    },
    "kernelspec": {
      "name": "python3",
      "display_name": "Python 3"
    },
    "language_info": {
      "name": "python"
    }
  },
  "cells": [
    {
      "cell_type": "code",
      "metadata": {
        "id": "Spwcy519Nr2S"
      },
      "source": [
        "import pandas as pd\n",
        "from sklearn.metrics import accuracy_score, f1_score, precision_score, recall_score, classification_report, confusion_matrix"
      ],
      "execution_count": null,
      "outputs": []
    },
    {
      "cell_type": "code",
      "metadata": {
        "colab": {
          "base_uri": "https://localhost:8080/"
        },
        "id": "L7YU63xNN2_X",
        "outputId": "7e67335c-2190-481e-dc29-7117f4a1173e"
      },
      "source": [
        "from google.colab import drive\n",
        "drive.mount('/content/drive')"
      ],
      "execution_count": null,
      "outputs": [
        {
          "output_type": "stream",
          "text": [
            "Mounted at /content/drive\n"
          ],
          "name": "stdout"
        }
      ]
    },
    {
      "cell_type": "code",
      "metadata": {
        "id": "QA1w1BdON3r_"
      },
      "source": [
        "import sys\n",
        "sys.path.append('/content/drive/My Drive/Project_2')"
      ],
      "execution_count": null,
      "outputs": []
    },
    {
      "cell_type": "code",
      "metadata": {
        "id": "JfPB5phEN6bg"
      },
      "source": [
        "df = pd.read_csv(\"/content/drive/My Drive/Project_2/result.csv\")"
      ],
      "execution_count": null,
      "outputs": []
    },
    {
      "cell_type": "code",
      "metadata": {
        "colab": {
          "base_uri": "https://localhost:8080/",
          "height": 206
        },
        "id": "ygupSpLcPYRn",
        "outputId": "1314e6a3-4332-4783-d2da-6f8ad55ad81b"
      },
      "source": [
        "df.head()"
      ],
      "execution_count": null,
      "outputs": [
        {
          "output_type": "execute_result",
          "data": {
            "text/html": [
              "<div>\n",
              "<style scoped>\n",
              "    .dataframe tbody tr th:only-of-type {\n",
              "        vertical-align: middle;\n",
              "    }\n",
              "\n",
              "    .dataframe tbody tr th {\n",
              "        vertical-align: top;\n",
              "    }\n",
              "\n",
              "    .dataframe thead th {\n",
              "        text-align: right;\n",
              "    }\n",
              "</style>\n",
              "<table border=\"1\" class=\"dataframe\">\n",
              "  <thead>\n",
              "    <tr style=\"text-align: right;\">\n",
              "      <th></th>\n",
              "      <th>Unnamed: 0</th>\n",
              "      <th>tweet_id</th>\n",
              "      <th>label</th>\n",
              "      <th>xlnet</th>\n",
              "      <th>SVC</th>\n",
              "      <th>GBC</th>\n",
              "      <th>MNB</th>\n",
              "      <th>RFC</th>\n",
              "      <th>BERT</th>\n",
              "    </tr>\n",
              "  </thead>\n",
              "  <tbody>\n",
              "    <tr>\n",
              "      <th>0</th>\n",
              "      <td>0</td>\n",
              "      <td>1261958095502221312</td>\n",
              "      <td>1</td>\n",
              "      <td>1</td>\n",
              "      <td>1</td>\n",
              "      <td>1</td>\n",
              "      <td>1</td>\n",
              "      <td>1</td>\n",
              "      <td>1</td>\n",
              "    </tr>\n",
              "    <tr>\n",
              "      <th>1</th>\n",
              "      <td>1</td>\n",
              "      <td>1270364781489373187</td>\n",
              "      <td>0</td>\n",
              "      <td>0</td>\n",
              "      <td>0</td>\n",
              "      <td>0</td>\n",
              "      <td>0</td>\n",
              "      <td>0</td>\n",
              "      <td>0</td>\n",
              "    </tr>\n",
              "    <tr>\n",
              "      <th>2</th>\n",
              "      <td>2</td>\n",
              "      <td>1263604531872649216</td>\n",
              "      <td>0</td>\n",
              "      <td>0</td>\n",
              "      <td>0</td>\n",
              "      <td>0</td>\n",
              "      <td>0</td>\n",
              "      <td>0</td>\n",
              "      <td>0</td>\n",
              "    </tr>\n",
              "    <tr>\n",
              "      <th>3</th>\n",
              "      <td>3</td>\n",
              "      <td>1265279665943523328</td>\n",
              "      <td>0</td>\n",
              "      <td>0</td>\n",
              "      <td>0</td>\n",
              "      <td>0</td>\n",
              "      <td>0</td>\n",
              "      <td>0</td>\n",
              "      <td>0</td>\n",
              "    </tr>\n",
              "    <tr>\n",
              "      <th>4</th>\n",
              "      <td>4</td>\n",
              "      <td>1261082283911589888</td>\n",
              "      <td>0</td>\n",
              "      <td>0</td>\n",
              "      <td>0</td>\n",
              "      <td>0</td>\n",
              "      <td>0</td>\n",
              "      <td>0</td>\n",
              "      <td>0</td>\n",
              "    </tr>\n",
              "  </tbody>\n",
              "</table>\n",
              "</div>"
            ],
            "text/plain": [
              "   Unnamed: 0             tweet_id  label  xlnet  SVC  GBC  MNB  RFC  BERT\n",
              "0           0  1261958095502221312      1      1    1    1    1    1     1\n",
              "1           1  1270364781489373187      0      0    0    0    0    0     0\n",
              "2           2  1263604531872649216      0      0    0    0    0    0     0\n",
              "3           3  1265279665943523328      0      0    0    0    0    0     0\n",
              "4           4  1261082283911589888      0      0    0    0    0    0     0"
            ]
          },
          "metadata": {
            "tags": []
          },
          "execution_count": 8
        }
      ]
    },
    {
      "cell_type": "code",
      "metadata": {
        "colab": {
          "base_uri": "https://localhost:8080/"
        },
        "id": "_uQdAsOEOUqb",
        "outputId": "c041b098-0962-44b4-fdbd-10a510b14150"
      },
      "source": [
        "print('SVC AS ',accuracy_score(df.label,df.SVC))\n",
        "print('SVC PS ',precision_score(df.label,df.SVC))\n",
        "print('SVC F1 ',f1_score(df.label,df.SVC))"
      ],
      "execution_count": null,
      "outputs": [
        {
          "output_type": "stream",
          "text": [
            "SVC AS  0.8525\n",
            "SVC PS  0.9504950495049505\n",
            "SVC F1  0.5655375552282769\n"
          ],
          "name": "stdout"
        }
      ]
    },
    {
      "cell_type": "code",
      "metadata": {
        "colab": {
          "base_uri": "https://localhost:8080/"
        },
        "id": "cYBzWcdYOtx0",
        "outputId": "289fce87-a87d-4779-ed58-b182f9bfb6e1"
      },
      "source": [
        "print('GBC AS ',accuracy_score(df.label,df.GBC))\n",
        "print('GBC PS ',precision_score(df.label,df.GBC))\n",
        "print('GBC F1 ',f1_score(df.label,df.GBC))"
      ],
      "execution_count": null,
      "outputs": [
        {
          "output_type": "stream",
          "text": [
            "GBC AS  0.8675\n",
            "GBC PS  0.9491525423728814\n",
            "GBC F1  0.6283309957924264\n"
          ],
          "name": "stdout"
        }
      ]
    },
    {
      "cell_type": "code",
      "metadata": {
        "colab": {
          "base_uri": "https://localhost:8080/"
        },
        "id": "IJvX121xO701",
        "outputId": "5b6aade4-ac9f-485c-ec00-724bd34c947e"
      },
      "source": [
        "print('MNB AS ',accuracy_score(df.label,df.MNB))\n",
        "print('MNB PS ',precision_score(df.label,df.MNB))\n",
        "print('MNB F1 ',f1_score(df.label,df.MNB))"
      ],
      "execution_count": null,
      "outputs": [
        {
          "output_type": "stream",
          "text": [
            "MNB AS  0.806\n",
            "MNB PS  0.9158878504672897\n",
            "MNB F1  0.3356164383561644\n"
          ],
          "name": "stdout"
        }
      ]
    },
    {
      "cell_type": "code",
      "metadata": {
        "colab": {
          "base_uri": "https://localhost:8080/"
        },
        "id": "Q2xEJwnOPHEr",
        "outputId": "60701f0e-e8fa-4c7b-ded4-617662c5a572"
      },
      "source": [
        "print('RFC AS ',accuracy_score(df.label,df.RFC))\n",
        "print('RFC PS ',precision_score(df.label,df.RFC))\n",
        "print('RFC F1 ',f1_score(df.label,df.RFC))"
      ],
      "execution_count": null,
      "outputs": [
        {
          "output_type": "stream",
          "text": [
            "RFC AS  0.848\n",
            "RFC PS  0.9576719576719577\n",
            "RFC F1  0.5435435435435435\n"
          ],
          "name": "stdout"
        }
      ]
    },
    {
      "cell_type": "code",
      "metadata": {
        "colab": {
          "base_uri": "https://localhost:8080/"
        },
        "id": "2NTks3vNPNQV",
        "outputId": "828f562a-74c0-4859-bf97-fe1785349332"
      },
      "source": [
        "print('BERT AS ',accuracy_score(df.label,df.BERT))\n",
        "print('BERT PS ',precision_score(df.label,df.BERT))\n",
        "print('BERT F1 ',f1_score(df.label,df.BERT))"
      ],
      "execution_count": null,
      "outputs": [
        {
          "output_type": "stream",
          "text": [
            "BERT AS  0.9395\n",
            "BERT PS  0.8836206896551724\n",
            "BERT F1  0.871413390010627\n"
          ],
          "name": "stdout"
        }
      ]
    },
    {
      "cell_type": "code",
      "metadata": {
        "colab": {
          "base_uri": "https://localhost:8080/"
        },
        "id": "i_CCQ2GcPS0s",
        "outputId": "3dcb300b-079b-4f29-8b84-4319d063b2ff"
      },
      "source": [
        "print('xlnet AS ',accuracy_score(df.label,df.xlnet))\n",
        "print('xlnet PS ',precision_score(df.label,df.xlnet))\n",
        "print('xlnet F1 ',f1_score(df.label,df.xlnet))"
      ],
      "execution_count": null,
      "outputs": [
        {
          "output_type": "stream",
          "text": [
            "xlnet AS  0.936\n",
            "xlnet PS  0.8720682302771855\n",
            "xlnet F1  0.8646934460887948\n"
          ],
          "name": "stdout"
        }
      ]
    }
  ]
}