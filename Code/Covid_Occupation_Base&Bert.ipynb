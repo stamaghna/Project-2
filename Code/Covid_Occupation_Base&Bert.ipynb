{
  "nbformat": 4,
  "nbformat_minor": 0,
  "metadata": {
    "accelerator": "GPU",
    "colab": {
      "name": "Covid_Occupation_Base&Bert",
      "provenance": [],
      "collapsed_sections": []
    },
    "kernelspec": {
      "display_name": "Python 3",
      "name": "python3"
    },
    "language_info": {
      "name": "python"
    }
  },
  "cells": [
    {
      "cell_type": "code",
      "metadata": {
        "id": "kAUbac5SqelQ",
        "colab": {
          "base_uri": "https://localhost:8080/"
        },
        "outputId": "adbee1a4-bec2-4f54-8d38-457dc6405e2b"
      },
      "source": [
        "! pip install pytorch-nlp\n",
        "! pip install pytorch-transformers\n",
        "! pip install ktrain"
      ],
      "execution_count": null,
      "outputs": [
        {
          "output_type": "stream",
          "text": [
            "Requirement already satisfied: pytorch-nlp in /usr/local/lib/python3.7/dist-packages (0.5.0)\n",
            "Requirement already satisfied: tqdm in /usr/local/lib/python3.7/dist-packages (from pytorch-nlp) (4.41.1)\n",
            "Requirement already satisfied: numpy in /usr/local/lib/python3.7/dist-packages (from pytorch-nlp) (1.19.5)\n",
            "Requirement already satisfied: pytorch-transformers in /usr/local/lib/python3.7/dist-packages (1.2.0)\n",
            "Requirement already satisfied: requests in /usr/local/lib/python3.7/dist-packages (from pytorch-transformers) (2.23.0)\n",
            "Requirement already satisfied: regex in /usr/local/lib/python3.7/dist-packages (from pytorch-transformers) (2019.12.20)\n",
            "Requirement already satisfied: sacremoses in /usr/local/lib/python3.7/dist-packages (from pytorch-transformers) (0.0.45)\n",
            "Requirement already satisfied: numpy in /usr/local/lib/python3.7/dist-packages (from pytorch-transformers) (1.19.5)\n",
            "Requirement already satisfied: sentencepiece in /usr/local/lib/python3.7/dist-packages (from pytorch-transformers) (0.1.95)\n",
            "Requirement already satisfied: boto3 in /usr/local/lib/python3.7/dist-packages (from pytorch-transformers) (1.17.90)\n",
            "Requirement already satisfied: torch>=1.0.0 in /usr/local/lib/python3.7/dist-packages (from pytorch-transformers) (1.8.1+cu101)\n",
            "Requirement already satisfied: tqdm in /usr/local/lib/python3.7/dist-packages (from pytorch-transformers) (4.41.1)\n",
            "Requirement already satisfied: certifi>=2017.4.17 in /usr/local/lib/python3.7/dist-packages (from requests->pytorch-transformers) (2020.12.5)\n",
            "Requirement already satisfied: idna<3,>=2.5 in /usr/local/lib/python3.7/dist-packages (from requests->pytorch-transformers) (2.10)\n",
            "Requirement already satisfied: urllib3!=1.25.0,!=1.25.1,<1.26,>=1.21.1 in /usr/local/lib/python3.7/dist-packages (from requests->pytorch-transformers) (1.24.3)\n",
            "Requirement already satisfied: chardet<4,>=3.0.2 in /usr/local/lib/python3.7/dist-packages (from requests->pytorch-transformers) (3.0.4)\n",
            "Requirement already satisfied: click in /usr/local/lib/python3.7/dist-packages (from sacremoses->pytorch-transformers) (7.1.2)\n",
            "Requirement already satisfied: six in /usr/local/lib/python3.7/dist-packages (from sacremoses->pytorch-transformers) (1.15.0)\n",
            "Requirement already satisfied: joblib in /usr/local/lib/python3.7/dist-packages (from sacremoses->pytorch-transformers) (1.0.1)\n",
            "Requirement already satisfied: botocore<1.21.0,>=1.20.90 in /usr/local/lib/python3.7/dist-packages (from boto3->pytorch-transformers) (1.20.90)\n",
            "Requirement already satisfied: s3transfer<0.5.0,>=0.4.0 in /usr/local/lib/python3.7/dist-packages (from boto3->pytorch-transformers) (0.4.2)\n",
            "Requirement already satisfied: jmespath<1.0.0,>=0.7.1 in /usr/local/lib/python3.7/dist-packages (from boto3->pytorch-transformers) (0.10.0)\n",
            "Requirement already satisfied: typing-extensions in /usr/local/lib/python3.7/dist-packages (from torch>=1.0.0->pytorch-transformers) (3.7.4.3)\n",
            "Requirement already satisfied: python-dateutil<3.0.0,>=2.1 in /usr/local/lib/python3.7/dist-packages (from botocore<1.21.0,>=1.20.90->boto3->pytorch-transformers) (2.8.1)\n",
            "Requirement already satisfied: ktrain in /usr/local/lib/python3.7/dist-packages (0.26.3)\n",
            "Requirement already satisfied: requests in /usr/local/lib/python3.7/dist-packages (from ktrain) (2.23.0)\n",
            "Requirement already satisfied: ipython in /usr/local/lib/python3.7/dist-packages (from ktrain) (5.5.0)\n",
            "Requirement already satisfied: jieba in /usr/local/lib/python3.7/dist-packages (from ktrain) (0.42.1)\n",
            "Requirement already satisfied: cchardet in /usr/local/lib/python3.7/dist-packages (from ktrain) (2.1.7)\n",
            "Requirement already satisfied: matplotlib>=3.0.0 in /usr/local/lib/python3.7/dist-packages (from ktrain) (3.2.2)\n",
            "Requirement already satisfied: seqeval==0.0.19 in /usr/local/lib/python3.7/dist-packages (from ktrain) (0.0.19)\n",
            "Requirement already satisfied: syntok in /usr/local/lib/python3.7/dist-packages (from ktrain) (1.3.1)\n",
            "Requirement already satisfied: transformers<=4.3.3,>=4.0.0 in /usr/local/lib/python3.7/dist-packages (from ktrain) (4.3.3)\n",
            "Requirement already satisfied: keras-bert>=0.86.0 in /usr/local/lib/python3.7/dist-packages (from ktrain) (0.86.0)\n",
            "Requirement already satisfied: networkx>=2.3 in /usr/local/lib/python3.7/dist-packages (from ktrain) (2.5.1)\n",
            "Requirement already satisfied: fastprogress>=0.1.21 in /usr/local/lib/python3.7/dist-packages (from ktrain) (1.0.0)\n",
            "Requirement already satisfied: pandas>=1.0.1 in /usr/local/lib/python3.7/dist-packages (from ktrain) (1.1.5)\n",
            "Requirement already satisfied: packaging in /usr/local/lib/python3.7/dist-packages (from ktrain) (20.9)\n",
            "Requirement already satisfied: sentencepiece in /usr/local/lib/python3.7/dist-packages (from ktrain) (0.1.95)\n",
            "Requirement already satisfied: whoosh in /usr/local/lib/python3.7/dist-packages (from ktrain) (2.7.4)\n",
            "Requirement already satisfied: joblib in /usr/local/lib/python3.7/dist-packages (from ktrain) (1.0.1)\n",
            "Requirement already satisfied: scikit-learn==0.23.2 in /usr/local/lib/python3.7/dist-packages (from ktrain) (0.23.2)\n",
            "Requirement already satisfied: langdetect in /usr/local/lib/python3.7/dist-packages (from ktrain) (1.0.9)\n",
            "Requirement already satisfied: certifi>=2017.4.17 in /usr/local/lib/python3.7/dist-packages (from requests->ktrain) (2020.12.5)\n",
            "Requirement already satisfied: chardet<4,>=3.0.2 in /usr/local/lib/python3.7/dist-packages (from requests->ktrain) (3.0.4)\n",
            "Requirement already satisfied: idna<3,>=2.5 in /usr/local/lib/python3.7/dist-packages (from requests->ktrain) (2.10)\n",
            "Requirement already satisfied: urllib3!=1.25.0,!=1.25.1,<1.26,>=1.21.1 in /usr/local/lib/python3.7/dist-packages (from requests->ktrain) (1.24.3)\n",
            "Requirement already satisfied: pickleshare in /usr/local/lib/python3.7/dist-packages (from ipython->ktrain) (0.7.5)\n",
            "Requirement already satisfied: setuptools>=18.5 in /usr/local/lib/python3.7/dist-packages (from ipython->ktrain) (57.0.0)\n",
            "Requirement already satisfied: simplegeneric>0.8 in /usr/local/lib/python3.7/dist-packages (from ipython->ktrain) (0.8.1)\n",
            "Requirement already satisfied: pygments in /usr/local/lib/python3.7/dist-packages (from ipython->ktrain) (2.6.1)\n",
            "Requirement already satisfied: traitlets>=4.2 in /usr/local/lib/python3.7/dist-packages (from ipython->ktrain) (5.0.5)\n",
            "Requirement already satisfied: prompt-toolkit<2.0.0,>=1.0.4 in /usr/local/lib/python3.7/dist-packages (from ipython->ktrain) (1.0.18)\n",
            "Requirement already satisfied: decorator in /usr/local/lib/python3.7/dist-packages (from ipython->ktrain) (4.4.2)\n",
            "Requirement already satisfied: pexpect; sys_platform != \"win32\" in /usr/local/lib/python3.7/dist-packages (from ipython->ktrain) (4.8.0)\n",
            "Requirement already satisfied: numpy>=1.11 in /usr/local/lib/python3.7/dist-packages (from matplotlib>=3.0.0->ktrain) (1.19.5)\n",
            "Requirement already satisfied: cycler>=0.10 in /usr/local/lib/python3.7/dist-packages (from matplotlib>=3.0.0->ktrain) (0.10.0)\n",
            "Requirement already satisfied: pyparsing!=2.0.4,!=2.1.2,!=2.1.6,>=2.0.1 in /usr/local/lib/python3.7/dist-packages (from matplotlib>=3.0.0->ktrain) (2.4.7)\n",
            "Requirement already satisfied: kiwisolver>=1.0.1 in /usr/local/lib/python3.7/dist-packages (from matplotlib>=3.0.0->ktrain) (1.3.1)\n",
            "Requirement already satisfied: python-dateutil>=2.1 in /usr/local/lib/python3.7/dist-packages (from matplotlib>=3.0.0->ktrain) (2.8.1)\n",
            "Requirement already satisfied: Keras>=2.2.4 in /usr/local/lib/python3.7/dist-packages (from seqeval==0.0.19->ktrain) (2.4.3)\n",
            "Requirement already satisfied: regex in /usr/local/lib/python3.7/dist-packages (from syntok->ktrain) (2019.12.20)\n",
            "Requirement already satisfied: sacremoses in /usr/local/lib/python3.7/dist-packages (from transformers<=4.3.3,>=4.0.0->ktrain) (0.0.45)\n",
            "Requirement already satisfied: filelock in /usr/local/lib/python3.7/dist-packages (from transformers<=4.3.3,>=4.0.0->ktrain) (3.0.12)\n",
            "Requirement already satisfied: importlib-metadata; python_version < \"3.8\" in /usr/local/lib/python3.7/dist-packages (from transformers<=4.3.3,>=4.0.0->ktrain) (4.0.1)\n",
            "Requirement already satisfied: tokenizers<0.11,>=0.10.1 in /usr/local/lib/python3.7/dist-packages (from transformers<=4.3.3,>=4.0.0->ktrain) (0.10.3)\n",
            "Requirement already satisfied: tqdm>=4.27 in /usr/local/lib/python3.7/dist-packages (from transformers<=4.3.3,>=4.0.0->ktrain) (4.41.1)\n",
            "Requirement already satisfied: keras-transformer>=0.38.0 in /usr/local/lib/python3.7/dist-packages (from keras-bert>=0.86.0->ktrain) (0.38.0)\n",
            "Requirement already satisfied: pytz>=2017.2 in /usr/local/lib/python3.7/dist-packages (from pandas>=1.0.1->ktrain) (2018.9)\n",
            "Requirement already satisfied: scipy>=0.19.1 in /usr/local/lib/python3.7/dist-packages (from scikit-learn==0.23.2->ktrain) (1.4.1)\n",
            "Requirement already satisfied: threadpoolctl>=2.0.0 in /usr/local/lib/python3.7/dist-packages (from scikit-learn==0.23.2->ktrain) (2.1.0)\n",
            "Requirement already satisfied: six in /usr/local/lib/python3.7/dist-packages (from langdetect->ktrain) (1.15.0)\n",
            "Requirement already satisfied: ipython-genutils in /usr/local/lib/python3.7/dist-packages (from traitlets>=4.2->ipython->ktrain) (0.2.0)\n",
            "Requirement already satisfied: wcwidth in /usr/local/lib/python3.7/dist-packages (from prompt-toolkit<2.0.0,>=1.0.4->ipython->ktrain) (0.2.5)\n",
            "Requirement already satisfied: ptyprocess>=0.5 in /usr/local/lib/python3.7/dist-packages (from pexpect; sys_platform != \"win32\"->ipython->ktrain) (0.7.0)\n",
            "Requirement already satisfied: pyyaml in /usr/local/lib/python3.7/dist-packages (from Keras>=2.2.4->seqeval==0.0.19->ktrain) (3.13)\n",
            "Requirement already satisfied: h5py in /usr/local/lib/python3.7/dist-packages (from Keras>=2.2.4->seqeval==0.0.19->ktrain) (3.1.0)\n",
            "Requirement already satisfied: click in /usr/local/lib/python3.7/dist-packages (from sacremoses->transformers<=4.3.3,>=4.0.0->ktrain) (7.1.2)\n",
            "Requirement already satisfied: typing-extensions>=3.6.4; python_version < \"3.8\" in /usr/local/lib/python3.7/dist-packages (from importlib-metadata; python_version < \"3.8\"->transformers<=4.3.3,>=4.0.0->ktrain) (3.7.4.3)\n",
            "Requirement already satisfied: zipp>=0.5 in /usr/local/lib/python3.7/dist-packages (from importlib-metadata; python_version < \"3.8\"->transformers<=4.3.3,>=4.0.0->ktrain) (3.4.1)\n",
            "Requirement already satisfied: keras-position-wise-feed-forward>=0.6.0 in /usr/local/lib/python3.7/dist-packages (from keras-transformer>=0.38.0->keras-bert>=0.86.0->ktrain) (0.6.0)\n",
            "Requirement already satisfied: keras-embed-sim>=0.8.0 in /usr/local/lib/python3.7/dist-packages (from keras-transformer>=0.38.0->keras-bert>=0.86.0->ktrain) (0.8.0)\n",
            "Requirement already satisfied: keras-layer-normalization>=0.14.0 in /usr/local/lib/python3.7/dist-packages (from keras-transformer>=0.38.0->keras-bert>=0.86.0->ktrain) (0.14.0)\n",
            "Requirement already satisfied: keras-multi-head>=0.27.0 in /usr/local/lib/python3.7/dist-packages (from keras-transformer>=0.38.0->keras-bert>=0.86.0->ktrain) (0.27.0)\n",
            "Requirement already satisfied: keras-pos-embd>=0.11.0 in /usr/local/lib/python3.7/dist-packages (from keras-transformer>=0.38.0->keras-bert>=0.86.0->ktrain) (0.11.0)\n",
            "Requirement already satisfied: cached-property; python_version < \"3.8\" in /usr/local/lib/python3.7/dist-packages (from h5py->Keras>=2.2.4->seqeval==0.0.19->ktrain) (1.5.2)\n",
            "Requirement already satisfied: keras-self-attention==0.46.0 in /usr/local/lib/python3.7/dist-packages (from keras-multi-head>=0.27.0->keras-transformer>=0.38.0->keras-bert>=0.86.0->ktrain) (0.46.0)\n"
          ],
          "name": "stdout"
        }
      ]
    },
    {
      "cell_type": "code",
      "metadata": {
        "colab": {
          "base_uri": "https://localhost:8080/"
        },
        "id": "XH1_-bHpq19S",
        "outputId": "0e73b234-b26f-47b3-e010-7f85dadf5703"
      },
      "source": [
        "import numpy as np\n",
        "import torch.nn as nn\n",
        "import pandas as pd\n",
        "import torch\n",
        "from pytorch_transformers import XLNetForSequenceClassification, XLNetTokenizer, AdamW, WarmupLinearSchedule\n",
        "from torch.utils.data import TensorDataset, DataLoader, RandomSampler, SequentialSampler\n",
        "torch.set_default_tensor_type('torch.cuda.FloatTensor')\n",
        "import ktrain\n",
        "from ktrain import text\n",
        "from sklearn.feature_extraction.text import TfidfVectorizer\n",
        "from sklearn.model_selection import train_test_split\n",
        "from sklearn.metrics import accuracy_score, f1_score, precision_score, recall_score, classification_report, confusion_matrix\n",
        "#nltk\n",
        "import nltk\n",
        "nltk.download('punkt')\n",
        "nltk.download('stopwords')\n",
        "from nltk.corpus import stopwords \n",
        "stop_words = stopwords.words('english')\n",
        "device = torch.device(\"cuda\")"
      ],
      "execution_count": null,
      "outputs": [
        {
          "output_type": "stream",
          "text": [
            "[nltk_data] Downloading package punkt to /root/nltk_data...\n",
            "[nltk_data]   Package punkt is already up-to-date!\n",
            "[nltk_data] Downloading package stopwords to /root/nltk_data...\n",
            "[nltk_data]   Package stopwords is already up-to-date!\n"
          ],
          "name": "stdout"
        }
      ]
    },
    {
      "cell_type": "markdown",
      "metadata": {
        "id": "Aku-3V7O6kEr"
      },
      "source": [
        "# **READING DATA**"
      ]
    },
    {
      "cell_type": "code",
      "metadata": {
        "colab": {
          "base_uri": "https://localhost:8080/"
        },
        "id": "xPBjIvcJ5rMH",
        "outputId": "fa8b67df-0e7f-4e1a-fa22-f226dd68467d"
      },
      "source": [
        "from google.colab import drive\n",
        "from google.colab import files\n",
        "drive.mount('/content/drive')"
      ],
      "execution_count": null,
      "outputs": [
        {
          "output_type": "stream",
          "text": [
            "Drive already mounted at /content/drive; to attempt to forcibly remount, call drive.mount(\"/content/drive\", force_remount=True).\n"
          ],
          "name": "stdout"
        }
      ]
    },
    {
      "cell_type": "code",
      "metadata": {
        "id": "AgapxZV28vhW"
      },
      "source": [
        "import sys\n",
        "sys.path.append('/content/drive/My Drive/Project_2')"
      ],
      "execution_count": null,
      "outputs": []
    },
    {
      "cell_type": "code",
      "metadata": {
        "colab": {
          "base_uri": "https://localhost:8080/",
          "height": 206
        },
        "id": "6V00LxCa9Rmk",
        "outputId": "6f863fde-5d6a-4cf6-992b-850d9ccb999c"
      },
      "source": [
        "train_= pd.read_csv(\"/content/drive/My Drive/Project_2/train.tsv\",sep=\"\\t\")\n",
        "train_.head()"
      ],
      "execution_count": null,
      "outputs": [
        {
          "output_type": "execute_result",
          "data": {
            "text/html": [
              "<div>\n",
              "<style scoped>\n",
              "    .dataframe tbody tr th:only-of-type {\n",
              "        vertical-align: middle;\n",
              "    }\n",
              "\n",
              "    .dataframe tbody tr th {\n",
              "        vertical-align: top;\n",
              "    }\n",
              "\n",
              "    .dataframe thead th {\n",
              "        text-align: right;\n",
              "    }\n",
              "</style>\n",
              "<table border=\"1\" class=\"dataframe\">\n",
              "  <thead>\n",
              "    <tr style=\"text-align: right;\">\n",
              "      <th></th>\n",
              "      <th>tweet_id</th>\n",
              "      <th>label</th>\n",
              "    </tr>\n",
              "  </thead>\n",
              "  <tbody>\n",
              "    <tr>\n",
              "      <th>0</th>\n",
              "      <td>1256007275807997953</td>\n",
              "      <td>0</td>\n",
              "    </tr>\n",
              "    <tr>\n",
              "      <th>1</th>\n",
              "      <td>1257909427677601792</td>\n",
              "      <td>0</td>\n",
              "    </tr>\n",
              "    <tr>\n",
              "      <th>2</th>\n",
              "      <td>1281580572415066112</td>\n",
              "      <td>0</td>\n",
              "    </tr>\n",
              "    <tr>\n",
              "      <th>3</th>\n",
              "      <td>1271348112733470720</td>\n",
              "      <td>0</td>\n",
              "    </tr>\n",
              "    <tr>\n",
              "      <th>4</th>\n",
              "      <td>1270421287148695556</td>\n",
              "      <td>0</td>\n",
              "    </tr>\n",
              "  </tbody>\n",
              "</table>\n",
              "</div>"
            ],
            "text/plain": [
              "              tweet_id  label\n",
              "0  1256007275807997953      0\n",
              "1  1257909427677601792      0\n",
              "2  1281580572415066112      0\n",
              "3  1271348112733470720      0\n",
              "4  1270421287148695556      0"
            ]
          },
          "metadata": {
            "tags": []
          },
          "execution_count": 62
        }
      ]
    },
    {
      "cell_type": "code",
      "metadata": {
        "colab": {
          "base_uri": "https://localhost:8080/",
          "height": 206
        },
        "id": "va16yrp09tu8",
        "outputId": "0c518b2f-2124-4034-f114-c47bc23ea5a4"
      },
      "source": [
        "valid_= pd.read_csv(\"/content/drive/My Drive/Project_2/valid.tsv\",sep=\"\\t\")\n",
        "valid_.head()"
      ],
      "execution_count": null,
      "outputs": [
        {
          "output_type": "execute_result",
          "data": {
            "text/html": [
              "<div>\n",
              "<style scoped>\n",
              "    .dataframe tbody tr th:only-of-type {\n",
              "        vertical-align: middle;\n",
              "    }\n",
              "\n",
              "    .dataframe tbody tr th {\n",
              "        vertical-align: top;\n",
              "    }\n",
              "\n",
              "    .dataframe thead th {\n",
              "        text-align: right;\n",
              "    }\n",
              "</style>\n",
              "<table border=\"1\" class=\"dataframe\">\n",
              "  <thead>\n",
              "    <tr style=\"text-align: right;\">\n",
              "      <th></th>\n",
              "      <th>tweet_id</th>\n",
              "      <th>label</th>\n",
              "    </tr>\n",
              "  </thead>\n",
              "  <tbody>\n",
              "    <tr>\n",
              "      <th>0</th>\n",
              "      <td>1279974120902590466</td>\n",
              "      <td>0</td>\n",
              "    </tr>\n",
              "    <tr>\n",
              "      <th>1</th>\n",
              "      <td>1282343525078663168</td>\n",
              "      <td>0</td>\n",
              "    </tr>\n",
              "    <tr>\n",
              "      <th>2</th>\n",
              "      <td>1278069425472704512</td>\n",
              "      <td>0</td>\n",
              "    </tr>\n",
              "    <tr>\n",
              "      <th>3</th>\n",
              "      <td>1274677343680946176</td>\n",
              "      <td>1</td>\n",
              "    </tr>\n",
              "    <tr>\n",
              "      <th>4</th>\n",
              "      <td>1270626757327151105</td>\n",
              "      <td>0</td>\n",
              "    </tr>\n",
              "  </tbody>\n",
              "</table>\n",
              "</div>"
            ],
            "text/plain": [
              "              tweet_id  label\n",
              "0  1279974120902590466      0\n",
              "1  1282343525078663168      0\n",
              "2  1278069425472704512      0\n",
              "3  1274677343680946176      1\n",
              "4  1270626757327151105      0"
            ]
          },
          "metadata": {
            "tags": []
          },
          "execution_count": 63
        }
      ]
    },
    {
      "cell_type": "code",
      "metadata": {
        "colab": {
          "base_uri": "https://localhost:8080/",
          "height": 110
        },
        "id": "gjKbTFu95f7L",
        "outputId": "a15e9c85-bad9-45e0-f6b1-d61b6a2dcadd"
      },
      "source": [
        "\n",
        "# #get all text files\n",
        "# from pathlib import Path\n",
        "# train_folder = Path(\"/content/drive/My Drive/Project_2/text_files/train/\").rglob('*.txt')\n",
        "# valid_folder = Path(\"/content/drive/My Drive/Project_2/text_files/valid/\").rglob('*.txt')\n",
        "# #####DONOT RUN THIS IF NOT NEEDED\n",
        "\n",
        "# train_files = [x for x in train_folder]\n",
        "# valid_files = [x for x in valid_folder]\n"
      ],
      "execution_count": null,
      "outputs": [
        {
          "output_type": "execute_result",
          "data": {
            "application/vnd.google.colaboratory.intrinsic+json": {
              "type": "string"
            },
            "text/plain": [
              "'\\n#get all text files\\nfrom pathlib import Path\\ntrain_folder = Path(\"/content/drive/My Drive/Project_2/text_files/train/\").rglob(\\'*.txt\\')\\nvalid_folder = Path(\"/content/drive/My Drive/Project_2/text_files/valid/\").rglob(\\'*.txt\\')\\n#####DONOT RUN THIS IF NOT NEEDED\\n\\ntrain_files = [x for x in train_folder]\\nvalid_files = [x for x in valid_folder]\\n'"
            ]
          },
          "metadata": {
            "tags": []
          },
          "execution_count": 64
        }
      ]
    },
    {
      "cell_type": "code",
      "metadata": {
        "id": "KzoNa3xb6Njz"
      },
      "source": [
        "#files"
      ],
      "execution_count": null,
      "outputs": []
    },
    {
      "cell_type": "code",
      "metadata": {
        "colab": {
          "base_uri": "https://localhost:8080/",
          "height": 110
        },
        "id": "j3zaP3oY6YSo",
        "outputId": "b7703490-8701-49ee-95a6-39d68ff59528"
      },
      "source": [
        "\n",
        "# Getting text from files\n",
        "# train_content = {}\n",
        "# for name in train_files:\n",
        "#     f = open(name, 'r')\n",
        "#     name = name.stem\n",
        "#     train_content[name] = f.readlines()\n",
        "#     #print(f.readlines())\n",
        "#     f.close()\n",
        "\n",
        "# valid_content = {}\n",
        "# for name in valid_files:\n",
        "#     f = open(name, 'r')\n",
        "#     name = name.stem\n",
        "#     valid_content[name] = f.readlines()\n",
        "#     #print(f.readlines())\n",
        "#     f.close()\n"
      ],
      "execution_count": null,
      "outputs": [
        {
          "output_type": "execute_result",
          "data": {
            "application/vnd.google.colaboratory.intrinsic+json": {
              "type": "string"
            },
            "text/plain": [
              "\"\\ntrain_content = {}\\nfor name in train_files:\\n    f = open(name, 'r')\\n    name = name.stem\\n    train_content[name] = f.readlines()\\n    #print(f.readlines())\\n    f.close()\\n\\nvalid_content = {}\\nfor name in valid_files:\\n    f = open(name, 'r')\\n    name = name.stem\\n    valid_content[name] = f.readlines()\\n    #print(f.readlines())\\n    f.close()\\n\""
            ]
          },
          "metadata": {
            "tags": []
          },
          "execution_count": 66
        }
      ]
    },
    {
      "cell_type": "code",
      "metadata": {
        "id": "Ty7JmwwjGVgp"
      },
      "source": [
        "#valid_content"
      ],
      "execution_count": null,
      "outputs": []
    },
    {
      "cell_type": "code",
      "metadata": {
        "colab": {
          "base_uri": "https://localhost:8080/",
          "height": 73
        },
        "id": "LgNcb1rbJeNF",
        "outputId": "7278eee1-232a-4af9-c966-fc6ae8037de4"
      },
      "source": [
        "# Making dataframe from dictionary\n",
        "# train_df = pd.DataFrame(list(train_content.items()),columns = ['tweet_id','text'])\n",
        "# valid_df = pd.DataFrame(list(valid_content.items()),columns = ['tweet_id','text'])\n"
      ],
      "execution_count": null,
      "outputs": [
        {
          "output_type": "execute_result",
          "data": {
            "application/vnd.google.colaboratory.intrinsic+json": {
              "type": "string"
            },
            "text/plain": [
              "\"\\ntrain_df = pd.DataFrame(list(train_content.items()),columns = ['tweet_id','text'])\\nvalid_df = pd.DataFrame(list(valid_content.items()),columns = ['tweet_id','text'])\\n\""
            ]
          },
          "metadata": {
            "tags": []
          },
          "execution_count": 68
        }
      ]
    },
    {
      "cell_type": "code",
      "metadata": {
        "id": "adpgqUR9KBMG"
      },
      "source": [
        "#valid_df"
      ],
      "execution_count": null,
      "outputs": []
    },
    {
      "cell_type": "code",
      "metadata": {
        "id": "zIeSLfwTtJo6"
      },
      "source": [
        "def convert_df(df1):\n",
        "  df1['tweet_id'] = df1['tweet_id'].astype(np.int64)\n",
        "  #df['text'] = df ['text'].astype(str)\n",
        "  df1.text = df1.text.apply(lambda x: str(x))\n",
        "  return df1"
      ],
      "execution_count": null,
      "outputs": []
    },
    {
      "cell_type": "code",
      "metadata": {
        "id": "zgWa5lZPJks8"
      },
      "source": [
        "#df['text']"
      ],
      "execution_count": null,
      "outputs": []
    },
    {
      "cell_type": "code",
      "metadata": {
        "id": "asBMv-wysMV1"
      },
      "source": [
        "def merge_label(df1,label_):\n",
        "  df1 = pd.merge(df1,label_ , on=\"tweet_id\")\n",
        "  df1.text = df1.text.apply(lambda x: str(x))\n",
        "  return df1"
      ],
      "execution_count": null,
      "outputs": []
    },
    {
      "cell_type": "code",
      "metadata": {
        "id": "Kwkn4JKpvTun"
      },
      "source": [
        "#df_['text']"
      ],
      "execution_count": null,
      "outputs": []
    },
    {
      "cell_type": "code",
      "metadata": {
        "id": "ZyHgLT5FtYiW"
      },
      "source": [
        "#df_.head(), train_.shape, df.shape, df_.shape"
      ],
      "execution_count": null,
      "outputs": []
    },
    {
      "cell_type": "markdown",
      "metadata": {
        "id": "t6l5V44SgSrh"
      },
      "source": [
        "SAVING TO FILE"
      ]
    },
    {
      "cell_type": "code",
      "metadata": {
        "colab": {
          "base_uri": "https://localhost:8080/",
          "height": 129
        },
        "id": "ugBzKCOp__ff",
        "outputId": "01d725c1-019e-4090-b75c-ebf3792bf2fa"
      },
      "source": [
        "# Dataframe -> CSV and storing in drive\n",
        "# train_df = convert_df(train_df)\n",
        "# valid_df = convert_df(valid_df)\n",
        "\n",
        "# train_df\n",
        "\n",
        "# train_df = merge_label(train_df,train_)\n",
        "# valid_df = merge_label(valid_df,valid_)\n",
        "\n",
        "# #save_colab(df,org_text.csv)\n",
        "# train_df.to_csv('train_df.csv')\n",
        "# !cp train_df.csv \"/content/drive/My Drive/Project_2/\"\n",
        "# valid_df.to_csv('valid_df.csv')\n",
        "# !cp valid_df.csv \"/content/drive/My Drive/Project_2/\"\n"
      ],
      "execution_count": null,
      "outputs": [
        {
          "output_type": "execute_result",
          "data": {
            "application/vnd.google.colaboratory.intrinsic+json": {
              "type": "string"
            },
            "text/plain": [
              "'\\ntrain_df = convert_df(train_df)\\nvalid_df = convert_df(valid_df)\\n\\ntrain_df\\n\\ntrain_df = merge_label(train_df,train_)\\nvalid_df = merge_label(valid_df,valid_)\\n\\n#save_colab(df,org_text.csv)\\ntrain_df.to_csv(\\'train_df.csv\\')\\n!cp train_df.csv \"/content/drive/My Drive/Project_2/\"\\nvalid_df.to_csv(\\'valid_df.csv\\')\\n!cp valid_df.csv \"/content/drive/My Drive/Project_2/\"\\n'"
            ]
          },
          "metadata": {
            "tags": []
          },
          "execution_count": 75
        }
      ]
    },
    {
      "cell_type": "code",
      "metadata": {
        "id": "hwhIBuFPJ6Fw"
      },
      "source": [
        "#valid_df"
      ],
      "execution_count": null,
      "outputs": []
    },
    {
      "cell_type": "markdown",
      "metadata": {
        "id": "hR8VLzsrnhQc"
      },
      "source": [
        "## **LOADING FROM FILE**"
      ]
    },
    {
      "cell_type": "code",
      "metadata": {
        "id": "FZsGKz3dnmkL"
      },
      "source": [
        "df = pd.read_csv(\"/content/drive/My Drive/Project_2/train_df.csv\")\n",
        "df_ = pd.read_csv(\"/content/drive/My Drive/Project_2/valid_df.csv\")"
      ],
      "execution_count": null,
      "outputs": []
    },
    {
      "cell_type": "code",
      "metadata": {
        "colab": {
          "base_uri": "https://localhost:8080/",
          "height": 597
        },
        "id": "9SImWncBJRQC",
        "outputId": "4ae34d77-0574-492c-9b3c-bdadccea806c"
      },
      "source": [
        "df_"
      ],
      "execution_count": null,
      "outputs": [
        {
          "output_type": "execute_result",
          "data": {
            "text/html": [
              "<div>\n",
              "<style scoped>\n",
              "    .dataframe tbody tr th:only-of-type {\n",
              "        vertical-align: middle;\n",
              "    }\n",
              "\n",
              "    .dataframe tbody tr th {\n",
              "        vertical-align: top;\n",
              "    }\n",
              "\n",
              "    .dataframe thead th {\n",
              "        text-align: right;\n",
              "    }\n",
              "</style>\n",
              "<table border=\"1\" class=\"dataframe\">\n",
              "  <thead>\n",
              "    <tr style=\"text-align: right;\">\n",
              "      <th></th>\n",
              "      <th>Unnamed: 0</th>\n",
              "      <th>tweet_id</th>\n",
              "      <th>text</th>\n",
              "      <th>label</th>\n",
              "    </tr>\n",
              "  </thead>\n",
              "  <tbody>\n",
              "    <tr>\n",
              "      <th>0</th>\n",
              "      <td>0</td>\n",
              "      <td>1261958095502221312</td>\n",
              "      <td>[\"At a graduation event, former US President B...</td>\n",
              "      <td>1</td>\n",
              "    </tr>\n",
              "    <tr>\n",
              "      <th>1</th>\n",
              "      <td>1</td>\n",
              "      <td>1270364781489373187</td>\n",
              "      <td>[\"Murcia turns green in tribute to the 'indisp...</td>\n",
              "      <td>0</td>\n",
              "    </tr>\n",
              "    <tr>\n",
              "      <th>2</th>\n",
              "      <td>2</td>\n",
              "      <td>1263604531872649216</td>\n",
              "      <td>['Hello, my friends!\\n', '\\n', 'If the Alarma ...</td>\n",
              "      <td>0</td>\n",
              "    </tr>\n",
              "    <tr>\n",
              "      <th>3</th>\n",
              "      <td>3</td>\n",
              "      <td>1265279665943523328</td>\n",
              "      <td>['@tonimdrd82 @Miotroyo2parte @Santi_ABASCAL @...</td>\n",
              "      <td>0</td>\n",
              "    </tr>\n",
              "    <tr>\n",
              "      <th>4</th>\n",
              "      <td>4</td>\n",
              "      <td>1261082283911589888</td>\n",
              "      <td>['Thanks to @TvPlataforma, we finally know who...</td>\n",
              "      <td>0</td>\n",
              "    </tr>\n",
              "    <tr>\n",
              "      <th>...</th>\n",
              "      <td>...</td>\n",
              "      <td>...</td>\n",
              "      <td>...</td>\n",
              "      <td>...</td>\n",
              "    </tr>\n",
              "    <tr>\n",
              "      <th>1995</th>\n",
              "      <td>1995</td>\n",
              "      <td>1260254592220225536</td>\n",
              "      <td>['@Lineamadrid I went to pick up my mask with ...</td>\n",
              "      <td>0</td>\n",
              "    </tr>\n",
              "    <tr>\n",
              "      <th>1996</th>\n",
              "      <td>1996</td>\n",
              "      <td>1267780530877214720</td>\n",
              "      <td>[\"@PabloFuente Virus CONTROL,I'm afraid they w...</td>\n",
              "      <td>0</td>\n",
              "    </tr>\n",
              "    <tr>\n",
              "      <th>1997</th>\n",
              "      <td>1997</td>\n",
              "      <td>1262648936600346625</td>\n",
              "      <td>[\"The Balearic Public Prosecutor's Office file...</td>\n",
              "      <td>0</td>\n",
              "    </tr>\n",
              "    <tr>\n",
              "      <th>1998</th>\n",
              "      <td>1998</td>\n",
              "      <td>1269538241277018112</td>\n",
              "      <td>['You have forgotten a \"small\" detail.\\n', 'A ...</td>\n",
              "      <td>0</td>\n",
              "    </tr>\n",
              "    <tr>\n",
              "      <th>1999</th>\n",
              "      <td>1999</td>\n",
              "      <td>1268519003024130048</td>\n",
              "      <td>['being a vox member must be a torment: \\n', '...</td>\n",
              "      <td>0</td>\n",
              "    </tr>\n",
              "  </tbody>\n",
              "</table>\n",
              "<p>2000 rows × 4 columns</p>\n",
              "</div>"
            ],
            "text/plain": [
              "      Unnamed: 0  ...  label\n",
              "0              0  ...      1\n",
              "1              1  ...      0\n",
              "2              2  ...      0\n",
              "3              3  ...      0\n",
              "4              4  ...      0\n",
              "...          ...  ...    ...\n",
              "1995        1995  ...      0\n",
              "1996        1996  ...      0\n",
              "1997        1997  ...      0\n",
              "1998        1998  ...      0\n",
              "1999        1999  ...      0\n",
              "\n",
              "[2000 rows x 4 columns]"
            ]
          },
          "metadata": {
            "tags": []
          },
          "execution_count": 78
        }
      ]
    },
    {
      "cell_type": "markdown",
      "metadata": {
        "id": "QkLTyeVE6Td4"
      },
      "source": [
        "# **BASIC DATA PRE-PROCESSING**"
      ]
    },
    {
      "cell_type": "code",
      "metadata": {
        "id": "JA6wq-2Dt4DP"
      },
      "source": [
        "def pp(df1):\n",
        "  #df['mod_text'] = df['text'].replace('\\d+', '')\n",
        "  df1['mod_text'] = df1['text'].apply(lambda x: x[2:-2]) #Removing brackets\n",
        "  df1['mod_text'] = df1['mod_text'].str.replace('#','') #\\S -> Non space character being removed.\n",
        "  df1['mod_text'] = df1['mod_text'].str.replace('@(\\S+) ','') #Removing hastags and username and tags\n",
        "  df1['mod_text'] = df1['mod_text'].str.replace('https:\\S+','') #Removing url\n",
        "  df1['mod_text'] = df1['mod_text'].str.replace(r'\\s+|\\\\n', ' ', regex=True) #Removing next line\n",
        "  df1['mod_text'] = df1['mod_text'].str.replace('[^a-zA-Z0-9]',' ')\n",
        "  #df1['final'] = df1['mod_text'].str.rstrip('\\n')\n",
        "  #df1['final'] = df1['final'].str.replace(' +', '')\n",
        "  #df['mod_text'] = df['mod_text'].apply(lambda x: x[2:-2])\n",
        "  tokenized_doc = df1['mod_text'].apply(lambda x: x.split())\n",
        "  tokenized_doc = tokenized_doc.apply(lambda x: [item for item in x if item not in stop_words])\n",
        "  detokenized_doc = [] \n",
        "  for i in range(len(df1)): \n",
        "    t = ' '.join(tokenized_doc[i]) \n",
        "    detokenized_doc.append(t) \n",
        "  df1['final'] = detokenized_doc"
      ],
      "execution_count": null,
      "outputs": []
    },
    {
      "cell_type": "code",
      "metadata": {
        "id": "MxneRd00I1YI"
      },
      "source": [
        "pp(df)\n",
        "pp(df_)"
      ],
      "execution_count": null,
      "outputs": []
    },
    {
      "cell_type": "code",
      "metadata": {
        "colab": {
          "base_uri": "https://localhost:8080/"
        },
        "id": "kEl7V-Ikudai",
        "outputId": "24b441a6-f18e-4f8a-ff14-71d5f1f7e195"
      },
      "source": [
        "print(df['final'][69])\n",
        "print (df['text'][69]) \n",
        "print(df_['final'][61])\n",
        "print (df_['text'][61])\n",
        "print (df_['tweet_id'][61])"
      ],
      "execution_count": null,
      "outputs": [
        {
          "output_type": "stream",
          "text": [
            "A pandemic Three months without playing still KING Simply put Leo Messi\n",
            "['🦠 A pandemic \\n', '⚽ Three months without playing....\\n', '👑 but he is still the KING. \\n', '\\n', '💙❤ Simply put, Leo Messi https://t.co/5JwCDwmJRh']\n",
            "The good thing going outside mask covers half face I half ugly usual All advantages\n",
            "[\"The good thing about going outside with a mask is that it covers half of my face and I'm half as ugly as usual.\\n\", '\\n', 'All advantages 🧐']\n",
            "1261822879680864256\n"
          ],
          "name": "stdout"
        }
      ]
    },
    {
      "cell_type": "code",
      "metadata": {
        "id": "D0LTgkyMvc2C"
      },
      "source": [
        "df.final=df.final.apply(str)\n",
        "df_.final=df_.final.apply(str)\n",
        "\n",
        "\n",
        "vectorizer = TfidfVectorizer(max_features = 64000, ngram_range=(1,4))\n",
        "df_text = vectorizer.fit_transform(df.final)\n",
        "df__text = vectorizer.fit_transform(df_.final)\n",
        "\n",
        "from sklearn.feature_extraction.text import CountVectorizer\n",
        "vect = CountVectorizer(ngram_range=(1,4)).fit(df.final)\n",
        "df_vect = vect.transform(df.final)\n",
        "df__vect = vect.transform(df_.final)"
      ],
      "execution_count": null,
      "outputs": []
    },
    {
      "cell_type": "code",
      "metadata": {
        "id": "sFi8zJq7hOs1"
      },
      "source": [
        "test = pd.DataFrame()\n",
        "test['index'] = df_['tweet_id']"
      ],
      "execution_count": null,
      "outputs": []
    },
    {
      "cell_type": "markdown",
      "metadata": {
        "id": "wMnO9xwJEgaA"
      },
      "source": [
        "# **SVC**"
      ]
    },
    {
      "cell_type": "code",
      "metadata": {
        "id": "nqhbsFBiJPkJ"
      },
      "source": [
        "from sklearn.svm import SVC\n",
        "svc =SVC(kernel='linear',tol=0.001,C=1)\n",
        "svc.fit(df_vect,df['label'])\n",
        "pred = svc.predict(vect.transform(df_.final))"
      ],
      "execution_count": null,
      "outputs": []
    },
    {
      "cell_type": "code",
      "metadata": {
        "colab": {
          "base_uri": "https://localhost:8080/"
        },
        "id": "P7rA2W5JmQY1",
        "outputId": "c0819764-3cfd-40d5-ed4d-fba03b40a592"
      },
      "source": [
        "print('SVC AS ',accuracy_score(df_.label,pred))\n",
        "print('SVC PS ',precision_score(df_.label,pred))\n",
        "print(confusion_matrix(df_.label,pred))"
      ],
      "execution_count": null,
      "outputs": [
        {
          "output_type": "stream",
          "text": [
            "SVC AS  0.8525\n",
            "SVC PS  0.9504950495049505\n",
            "[[1513   10]\n",
            " [ 285  192]]\n"
          ],
          "name": "stdout"
        }
      ]
    },
    {
      "cell_type": "code",
      "metadata": {
        "id": "LzPsPdhZhRik"
      },
      "source": [
        "test['SVC'] = pred"
      ],
      "execution_count": null,
      "outputs": []
    },
    {
      "cell_type": "markdown",
      "metadata": {
        "id": "f3Fyli_GEmiJ"
      },
      "source": [
        "# **MNB**"
      ]
    },
    {
      "cell_type": "code",
      "metadata": {
        "colab": {
          "base_uri": "https://localhost:8080/"
        },
        "id": "js30hTqtnTvK",
        "outputId": "12eb2367-b27d-4343-ec75-9fedf28fb49c"
      },
      "source": [
        "from sklearn.naive_bayes import MultinomialNB\n",
        "\n",
        "MNB = MultinomialNB()\n",
        "MNB.fit(df_vect,df['label'])\n",
        "pred = MNB.predict(df__vect)\n",
        "\n",
        "print('MNB AS ',accuracy_score(df_.label,pred))\n",
        "print('MNB PS ',precision_score(df_.label,pred))\n",
        "print(confusion_matrix(df_.label,pred))\n",
        "test['MNB'] = pred"
      ],
      "execution_count": null,
      "outputs": [
        {
          "output_type": "stream",
          "text": [
            "MNB AS  0.806\n",
            "MNB PS  0.9158878504672897\n",
            "[[1514    9]\n",
            " [ 379   98]]\n"
          ],
          "name": "stdout"
        }
      ]
    },
    {
      "cell_type": "markdown",
      "metadata": {
        "id": "2HPqvDZoEosd"
      },
      "source": [
        "# **RFC**"
      ]
    },
    {
      "cell_type": "code",
      "metadata": {
        "colab": {
          "base_uri": "https://localhost:8080/"
        },
        "id": "0mcKR7NoprlB",
        "outputId": "f5fbd5e6-b06f-4429-edb1-5e5b0588bb23"
      },
      "source": [
        "from sklearn.ensemble import RandomForestClassifier\n",
        "\n",
        "RFC = RandomForestClassifier()\n",
        "RFC.fit(df_vect,df['label'])\n",
        "pred = RFC.predict(df__vect)\n",
        "\n",
        "print('RFC AS ',accuracy_score(df_.label,pred))\n",
        "print('RFC PS ',precision_score(df_.label,pred))\n",
        "print(confusion_matrix(df_.label,pred))\n",
        "test['RFC'] = pred"
      ],
      "execution_count": null,
      "outputs": [
        {
          "output_type": "stream",
          "text": [
            "RFC AS  0.848\n",
            "RFC PS  0.9576719576719577\n",
            "[[1515    8]\n",
            " [ 296  181]]\n"
          ],
          "name": "stdout"
        }
      ]
    },
    {
      "cell_type": "markdown",
      "metadata": {
        "id": "3WXgnNocFUyu"
      },
      "source": [
        "# **GFC**"
      ]
    },
    {
      "cell_type": "code",
      "metadata": {
        "colab": {
          "base_uri": "https://localhost:8080/"
        },
        "id": "AY_tXEaRqfot",
        "outputId": "6fdea36e-9250-419c-e39b-85a63fc4b01c"
      },
      "source": [
        "from sklearn.ensemble import GradientBoostingClassifier\n",
        "\n",
        "GBC = GradientBoostingClassifier()\n",
        "GBC.fit(df_vect,df['label'])\n",
        "pred = GBC.predict(df__vect)\n",
        "\n",
        "print('GBC AS ',accuracy_score(df_.label,pred))\n",
        "print('GBC PS ',precision_score(df_.label,pred))\n",
        "print(confusion_matrix(df_.label,pred))\n",
        "test['GBC'] = pred"
      ],
      "execution_count": null,
      "outputs": [
        {
          "output_type": "stream",
          "text": [
            "GBC AS  0.8675\n",
            "GBC PS  0.9491525423728814\n",
            "[[1511   12]\n",
            " [ 253  224]]\n"
          ],
          "name": "stdout"
        }
      ]
    },
    {
      "cell_type": "markdown",
      "metadata": {
        "id": "0sv3eW1s4VvG"
      },
      "source": [
        "# **PREPARING DATASET FOR PRETRAINED MODELS**"
      ]
    },
    {
      "cell_type": "code",
      "metadata": {
        "colab": {
          "base_uri": "https://localhost:8080/",
          "height": 284
        },
        "id": "pW4s3E7YFXVG",
        "outputId": "f4806e08-8c59-4af7-9abc-32fda6ce13c7"
      },
      "source": [
        "seq_len = [len(i.split()) for i in df['final']]\n",
        "pd.Series(seq_len).hist(bins = 30)"
      ],
      "execution_count": null,
      "outputs": [
        {
          "output_type": "execute_result",
          "data": {
            "text/plain": [
              "<matplotlib.axes._subplots.AxesSubplot at 0x7f1256918d10>"
            ]
          },
          "metadata": {
            "tags": []
          },
          "execution_count": 90
        },
        {
          "output_type": "display_data",
          "data": {
            "image/png": "[encoded data removed]",
            "text/plain": [
              "<Figure size 432x288 with 1 Axes>"
            ]
          },
          "metadata": {
            "tags": [],
            "needs_background": "light"
          }
        }
      ]
    },
    {
      "cell_type": "code",
      "metadata": {
        "colab": {
          "base_uri": "https://localhost:8080/"
        },
        "id": "eUWFWW9ti8-y",
        "outputId": "3ef1b50e-5520-4f6e-c618-c8b765a67149"
      },
      "source": [
        "print('Training Set:',df['label'].value_counts(normalize = True))\n",
        "print('Test Set:',df_['label'].value_counts(normalize = True))"
      ],
      "execution_count": null,
      "outputs": [
        {
          "output_type": "stream",
          "text": [
            "Training Set: 0    0.767833\n",
            "1    0.232167\n",
            "Name: label, dtype: float64\n",
            "Test Set: 0    0.7615\n",
            "1    0.2385\n",
            "Name: label, dtype: float64\n"
          ],
          "name": "stdout"
        }
      ]
    },
    {
      "cell_type": "code",
      "metadata": {
        "id": "tQyd7pknetUn"
      },
      "source": [
        "categories = [0,1]\n",
        "train_text,test_text,train_label,test_label = train_test_split(df['final'], df['label'], \n",
        "random_state=20, test_size=0.3, stratify=df['label'])\n"
      ],
      "execution_count": null,
      "outputs": []
    },
    {
      "cell_type": "code",
      "metadata": {
        "id": "N1V_ymINqdy3"
      },
      "source": [
        "train_x_ = np.array(train_text)\n",
        "train_y_ = np.array(train_label)\n",
        "test_x_ = np.array(test_text)\n",
        "test_y_ = np.array(test_label)"
      ],
      "execution_count": null,
      "outputs": []
    },
    {
      "cell_type": "markdown",
      "metadata": {
        "id": "DsyYpe5qoLNx"
      },
      "source": [
        "# **BERT**"
      ]
    },
    {
      "cell_type": "code",
      "metadata": {
        "colab": {
          "base_uri": "https://localhost:8080/",
          "height": 258
        },
        "id": "P5mkRBZvnSBI",
        "outputId": "418c45b7-4c6d-4884-cc2a-0604d6a2441f"
      },
      "source": [
        "MODEL_NAME = 'bert-base-cased'\n",
        "t = text.Transformer(MODEL_NAME, maxlen=65, class_names=categories)\n",
        "trn = t.preprocess_train(train_x_, train_y_)\n",
        "val = t.preprocess_test(test_x_, test_y_)\n",
        "model = t.get_classifier()\n",
        "learner = ktrain.get_learner(model, train_data=trn, val_data=val, batch_size=32)"
      ],
      "execution_count": null,
      "outputs": [
        {
          "output_type": "stream",
          "text": [
            "preprocessing train...\n",
            "language: en\n",
            "train sequence lengths:\n",
            "\tmean : 17\n",
            "\t95percentile : 30\n",
            "\t99percentile : 35\n"
          ],
          "name": "stdout"
        },
        {
          "output_type": "display_data",
          "data": {
            "text/html": [
              ""
            ],
            "text/plain": [
              "<IPython.core.display.HTML object>"
            ]
          },
          "metadata": {
            "tags": []
          }
        },
        {
          "output_type": "stream",
          "text": [
            "Is Multi-Label? False\n",
            "preprocessing test...\n",
            "language: en\n",
            "test sequence lengths:\n",
            "\tmean : 17\n",
            "\t95percentile : 30\n",
            "\t99percentile : 34\n"
          ],
          "name": "stdout"
        },
        {
          "output_type": "display_data",
          "data": {
            "text/html": [
              ""
            ],
            "text/plain": [
              "<IPython.core.display.HTML object>"
            ]
          },
          "metadata": {
            "tags": []
          }
        }
      ]
    },
    {
      "cell_type": "code",
      "metadata": {
        "colab": {
          "base_uri": "https://localhost:8080/",
          "height": 544
        },
        "id": "WFhER3PSrQIR",
        "outputId": "52bed94f-b93a-4702-cea3-2a85f83d216e"
      },
      "source": [
        "learner.lr_find(show_plot=True, max_epochs=4)"
      ],
      "execution_count": null,
      "outputs": [
        {
          "output_type": "stream",
          "text": [
            "simulating training for different learning rates... this may take a few moments...\n",
            "Epoch 1/4\n",
            "131/131 [==============================] - 63s 396ms/step - loss: 0.5831 - accuracy: 0.7624\n",
            "Epoch 2/4\n",
            "131/131 [==============================] - 54s 413ms/step - loss: 0.5200 - accuracy: 0.7826\n",
            "Epoch 3/4\n",
            "131/131 [==============================] - 55s 419ms/step - loss: 2.7895 - accuracy: 0.6809\n",
            "Epoch 4/4\n",
            "131/131 [==============================] - 4s 26ms/step - loss: 8.5449 - accuracy: 0.6422\n",
            "\n",
            "\n",
            "done.\n",
            "Visually inspect loss plot and select learning rate associated with falling loss\n"
          ],
          "name": "stdout"
        },
        {
          "output_type": "display_data",
          "data": {
            "image/png": "[encoded data removed]",
            "text/plain": [
              "<Figure size 432x288 with 1 Axes>"
            ]
          },
          "metadata": {
            "tags": [],
            "needs_background": "light"
          }
        }
      ]
    },
    {
      "cell_type": "code",
      "metadata": {
        "colab": {
          "base_uri": "https://localhost:8080/"
        },
        "id": "hcLDWPcsr3HJ",
        "outputId": "61673abd-60c7-4c3e-c2f4-f8c7e47696ac"
      },
      "source": [
        "learner.autofit(4e-5, 10)"
      ],
      "execution_count": null,
      "outputs": [
        {
          "output_type": "stream",
          "text": [
            "\n",
            "\n",
            "begin training using triangular learning rate policy with max lr of 4e-05...\n",
            "Epoch 1/10\n",
            "132/132 [==============================] - 75s 486ms/step - loss: 0.4447 - accuracy: 0.8212 - val_loss: 0.2650 - val_accuracy: 0.9089\n",
            "Epoch 2/10\n",
            "132/132 [==============================] - 65s 484ms/step - loss: 0.2236 - accuracy: 0.9274 - val_loss: 0.2237 - val_accuracy: 0.9267\n",
            "Epoch 3/10\n",
            "132/132 [==============================] - 65s 483ms/step - loss: 0.1505 - accuracy: 0.9533 - val_loss: 0.2013 - val_accuracy: 0.9328\n",
            "Epoch 4/10\n",
            "132/132 [==============================] - 65s 484ms/step - loss: 0.1048 - accuracy: 0.9664 - val_loss: 0.2008 - val_accuracy: 0.9394\n",
            "Epoch 5/10\n",
            "132/132 [==============================] - 64s 483ms/step - loss: 0.0579 - accuracy: 0.9833 - val_loss: 0.2065 - val_accuracy: 0.9439\n",
            "Epoch 6/10\n",
            "132/132 [==============================] - 65s 484ms/step - loss: 0.0372 - accuracy: 0.9890 - val_loss: 0.2408 - val_accuracy: 0.9406\n",
            "Epoch 7/10\n",
            "132/132 [==============================] - 65s 484ms/step - loss: 0.0250 - accuracy: 0.9926 - val_loss: 0.3284 - val_accuracy: 0.9200\n",
            "Epoch 8/10\n",
            "132/132 [==============================] - 65s 484ms/step - loss: 0.0226 - accuracy: 0.9933 - val_loss: 0.2710 - val_accuracy: 0.9433\n",
            "Epoch 9/10\n",
            "132/132 [==============================] - 65s 484ms/step - loss: 0.0098 - accuracy: 0.9971 - val_loss: 0.3162 - val_accuracy: 0.9450\n",
            "Epoch 10/10\n",
            "132/132 [==============================] - 65s 484ms/step - loss: 0.0056 - accuracy: 0.9976 - val_loss: 0.3500 - val_accuracy: 0.9439\n"
          ],
          "name": "stdout"
        },
        {
          "output_type": "execute_result",
          "data": {
            "text/plain": [
              "<tensorflow.python.keras.callbacks.History at 0x7f14d91e2210>"
            ]
          },
          "metadata": {
            "tags": []
          },
          "execution_count": 96
        }
      ]
    },
    {
      "cell_type": "code",
      "metadata": {
        "id": "5Ws0H3e_sk1m",
        "colab": {
          "base_uri": "https://localhost:8080/"
        },
        "outputId": "71785b7a-9797-461a-fb07-298c6a3bbe74"
      },
      "source": [
        "learner.validate(class_names=t.get_classes())"
      ],
      "execution_count": null,
      "outputs": [
        {
          "output_type": "stream",
          "text": [
            "              precision    recall  f1-score   support\n",
            "\n",
            "           0       0.96      0.96      0.96      1382\n",
            "           1       0.88      0.88      0.88       418\n",
            "\n",
            "    accuracy                           0.94      1800\n",
            "   macro avg       0.92      0.92      0.92      1800\n",
            "weighted avg       0.94      0.94      0.94      1800\n",
            "\n"
          ],
          "name": "stdout"
        },
        {
          "output_type": "execute_result",
          "data": {
            "text/plain": [
              "array([[1333,   49],\n",
              "       [  52,  366]])"
            ]
          },
          "metadata": {
            "tags": []
          },
          "execution_count": 97
        }
      ]
    },
    {
      "cell_type": "code",
      "metadata": {
        "id": "X6YhVsl-t7xd",
        "colab": {
          "base_uri": "https://localhost:8080/"
        },
        "outputId": "116b67b8-9113-4b70-f3ba-f6ee120ad8ec"
      },
      "source": [
        "predictor = ktrain.get_predictor(learner.model, preproc=t)\n",
        "count = 0\n",
        "pred = []\n",
        "for i in range(len(df_)):\n",
        "  pred.append(predictor.predict(df_.final[i]))\n",
        "  if (i % 50 == 0):\n",
        "    print(i)\n",
        "  #print(i,end = ' ')\n",
        "  #print(pred)  \n",
        "  #if (pred == df_.label[i]):\n",
        "  #  count+=1\n",
        "#print(count/df_.size)\n",
        "#print(count/len(df_))\n",
        "print('BERT AS ',accuracy_score(df_.label,pred))\n",
        "print('BERT PS ',precision_score(df_.label,pred))\n",
        "print(confusion_matrix(df_.label,pred))"
      ],
      "execution_count": null,
      "outputs": [
        {
          "output_type": "stream",
          "text": [
            "0\n",
            "50\n",
            "100\n",
            "150\n",
            "200\n",
            "250\n",
            "300\n",
            "350\n",
            "400\n",
            "450\n",
            "500\n",
            "550\n",
            "600\n",
            "650\n",
            "700\n",
            "750\n",
            "800\n",
            "850\n",
            "900\n",
            "950\n",
            "1000\n",
            "1050\n",
            "1100\n",
            "1150\n",
            "1200\n",
            "1250\n",
            "1300\n",
            "1350\n",
            "1400\n",
            "1450\n",
            "1500\n",
            "1550\n",
            "1600\n",
            "1650\n",
            "1700\n",
            "1750\n",
            "1800\n",
            "1850\n",
            "1900\n",
            "1950\n",
            "BERT AS  0.9395\n",
            "BERT PS  0.8836206896551724\n",
            "[[1469   54]\n",
            " [  67  410]]\n"
          ],
          "name": "stdout"
        }
      ]
    },
    {
      "cell_type": "markdown",
      "metadata": {
        "id": "xVc6khz2y3IX"
      },
      "source": [
        "\n",
        "\n",
        "*   Batch Size: 64 LR: 4e-5 E: 4 Score: 93 Base TS: 0.3\n",
        "*   Batch Size: 128 LR: 4e-5 E: 7 Score: 91.35 Base TS: 0.3\n",
        "*   Batch Size: 32 LR: 4e-5 E: 7 Score: 92.1 Base TS: 0.3\n",
        "\n",
        "\n"
      ]
    },
    {
      "cell_type": "code",
      "metadata": {
        "id": "evYN1iT7hgzM"
      },
      "source": [
        "test['BERT'] = pred"
      ],
      "execution_count": null,
      "outputs": []
    },
    {
      "cell_type": "code",
      "metadata": {
        "id": "p7urOI04ggZm"
      },
      "source": [
        "from google.colab import files\n",
        "test.to_csv('test_base.csv')\n",
        "#files.download('test_XLNET.csv')\n",
        "!cp test_base.csv \"/content/drive/My Drive/Project_2/test_base.csv\""
      ],
      "execution_count": null,
      "outputs": []
    },
    {
      "cell_type": "code",
      "metadata": {
        "id": "wdPjctURnZPC"
      },
      "source": [
        "xlnet = pd.read_csv(\"/content/drive/My Drive/Project_2/test_XLNET.csv\")\n",
        "rest = pd.read_csv(\"/content/drive/My Drive/Project_2/test_base.csv\")"
      ],
      "execution_count": null,
      "outputs": []
    },
    {
      "cell_type": "code",
      "metadata": {
        "id": "EitumAlmnvTq"
      },
      "source": [
        "all_result = pd.DataFrame()\n",
        "all_result['tweet_id'] = df_['tweet_id']\n",
        "all_result['label'] = df_['label']\n",
        "all_result['xlnet'] = xlnet['XL_Net_label'].astype('int64')\n",
        "all_result['SVC'] = rest['SVC']\n",
        "all_result['GBC'] = rest['GBC']\n",
        "all_result['MNB'] = rest['MNB']\n",
        "all_result['RFC'] = rest['RFC']\n",
        "all_result['BERT'] = rest['BERT']  "
      ],
      "execution_count": null,
      "outputs": []
    },
    {
      "cell_type": "code",
      "metadata": {
        "colab": {
          "base_uri": "https://localhost:8080/",
          "height": 206
        },
        "id": "eFR36RXoonbK",
        "outputId": "67ef0d06-4812-45f5-8ef8-0d2960a7d5ed"
      },
      "source": [
        "all_result.head()"
      ],
      "execution_count": null,
      "outputs": [
        {
          "output_type": "execute_result",
          "data": {
            "text/html": [
              "<div>\n",
              "<style scoped>\n",
              "    .dataframe tbody tr th:only-of-type {\n",
              "        vertical-align: middle;\n",
              "    }\n",
              "\n",
              "    .dataframe tbody tr th {\n",
              "        vertical-align: top;\n",
              "    }\n",
              "\n",
              "    .dataframe thead th {\n",
              "        text-align: right;\n",
              "    }\n",
              "</style>\n",
              "<table border=\"1\" class=\"dataframe\">\n",
              "  <thead>\n",
              "    <tr style=\"text-align: right;\">\n",
              "      <th></th>\n",
              "      <th>tweet_id</th>\n",
              "      <th>label</th>\n",
              "      <th>xlnet</th>\n",
              "      <th>SVC</th>\n",
              "      <th>GBC</th>\n",
              "      <th>MNB</th>\n",
              "      <th>RFC</th>\n",
              "      <th>BERT</th>\n",
              "    </tr>\n",
              "  </thead>\n",
              "  <tbody>\n",
              "    <tr>\n",
              "      <th>0</th>\n",
              "      <td>1261958095502221312</td>\n",
              "      <td>1</td>\n",
              "      <td>1</td>\n",
              "      <td>1</td>\n",
              "      <td>1</td>\n",
              "      <td>1</td>\n",
              "      <td>1</td>\n",
              "      <td>1</td>\n",
              "    </tr>\n",
              "    <tr>\n",
              "      <th>1</th>\n",
              "      <td>1270364781489373187</td>\n",
              "      <td>0</td>\n",
              "      <td>0</td>\n",
              "      <td>0</td>\n",
              "      <td>0</td>\n",
              "      <td>0</td>\n",
              "      <td>0</td>\n",
              "      <td>0</td>\n",
              "    </tr>\n",
              "    <tr>\n",
              "      <th>2</th>\n",
              "      <td>1263604531872649216</td>\n",
              "      <td>0</td>\n",
              "      <td>0</td>\n",
              "      <td>0</td>\n",
              "      <td>0</td>\n",
              "      <td>0</td>\n",
              "      <td>0</td>\n",
              "      <td>0</td>\n",
              "    </tr>\n",
              "    <tr>\n",
              "      <th>3</th>\n",
              "      <td>1265279665943523328</td>\n",
              "      <td>0</td>\n",
              "      <td>0</td>\n",
              "      <td>0</td>\n",
              "      <td>0</td>\n",
              "      <td>0</td>\n",
              "      <td>0</td>\n",
              "      <td>0</td>\n",
              "    </tr>\n",
              "    <tr>\n",
              "      <th>4</th>\n",
              "      <td>1261082283911589888</td>\n",
              "      <td>0</td>\n",
              "      <td>0</td>\n",
              "      <td>0</td>\n",
              "      <td>0</td>\n",
              "      <td>0</td>\n",
              "      <td>0</td>\n",
              "      <td>0</td>\n",
              "    </tr>\n",
              "  </tbody>\n",
              "</table>\n",
              "</div>"
            ],
            "text/plain": [
              "              tweet_id  label  xlnet  SVC  GBC  MNB  RFC  BERT\n",
              "0  1261958095502221312      1      1    1    1    1    1     1\n",
              "1  1270364781489373187      0      0    0    0    0    0     0\n",
              "2  1263604531872649216      0      0    0    0    0    0     0\n",
              "3  1265279665943523328      0      0    0    0    0    0     0\n",
              "4  1261082283911589888      0      0    0    0    0    0     0"
            ]
          },
          "metadata": {
            "tags": []
          },
          "execution_count": 111
        }
      ]
    },
    {
      "cell_type": "code",
      "metadata": {
        "id": "5e8XbhpvpLZB"
      },
      "source": [
        "all_result.to_csv('result.csv')\n",
        "#files.download('test_XLNET.csv')\n",
        "!cp result.csv \"/content/drive/My Drive/Project_2/result.csv\""
      ],
      "execution_count": null,
      "outputs": []
    }
  ]
}